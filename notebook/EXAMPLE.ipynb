{
 "cells": [
  {
   "cell_type": "code",
   "execution_count": 1,
   "metadata": {
    "ExecuteTime": {
     "end_time": "2020-05-18T10:29:38.266473Z",
     "start_time": "2020-05-18T10:29:38.033221Z"
    }
   },
   "outputs": [],
   "source": [
    "import numpy as np\n",
    "\n",
    "from matplotlib import pyplot as plt\n",
    "from matplotlib.patches import Rectangle\n",
    "\n",
    "from glob import glob\n",
    "import random\n",
    "import cv2\n",
    "import json\n",
    "\n",
    "import os\n",
    "import sys"
   ]
  },
  {
   "cell_type": "code",
   "execution_count": 2,
   "metadata": {
    "ExecuteTime": {
     "end_time": "2020-05-18T10:29:38.924706Z",
     "start_time": "2020-05-18T10:29:38.922579Z"
    }
   },
   "outputs": [],
   "source": [
    "sys.path.append(os.path.abspath('../src'))"
   ]
  },
  {
   "cell_type": "code",
   "execution_count": 4,
   "metadata": {
    "ExecuteTime": {
     "end_time": "2020-05-18T10:29:40.654799Z",
     "start_time": "2020-05-18T10:29:40.520477Z"
    }
   },
   "outputs": [],
   "source": [
    "from generate_links import generate_wiki_links\n",
    "from webbox import WebBBox"
   ]
  },
  {
   "cell_type": "code",
   "execution_count": 5,
   "metadata": {
    "ExecuteTime": {
     "end_time": "2020-05-18T10:29:42.868828Z",
     "start_time": "2020-05-18T10:29:41.543559Z"
    }
   },
   "outputs": [],
   "source": [
    "links = generate_wiki_links(10, 'Время')"
   ]
  },
  {
   "cell_type": "code",
   "execution_count": 6,
   "metadata": {
    "ExecuteTime": {
     "end_time": "2020-05-18T10:29:43.731373Z",
     "start_time": "2020-05-18T10:29:43.465191Z"
    }
   },
   "outputs": [
    {
     "name": "stderr",
     "output_type": "stream",
     "text": [
      "/home/nazarii/anaconda3/lib/python3.7/site-packages/tqdm/autonotebook/__init__.py:14: TqdmExperimentalWarning: Using `tqdm.autonotebook.tqdm` in notebook mode. Use `tqdm.tqdm` instead to force console mode (e.g. in jupyter console)\n",
      "  \" (e.g. in jupyter console)\", TqdmExperimentalWarning)\n"
     ]
    }
   ],
   "source": []
  },
  {
   "cell_type": "code",
   "execution_count": 10,
   "metadata": {
    "ExecuteTime": {
     "end_time": "2020-05-18T10:32:50.811393Z",
     "start_time": "2020-05-18T10:32:48.454653Z"
    }
   },
   "outputs": [
    {
     "name": "stdout",
     "output_type": "stream",
     "text": [
      "Screenshots in ../dataset/screenshots\n",
      "Annotations in ../dataset/annotations\n"
     ]
    }
   ],
   "source": [
    "wbx = WebBBox(path='../', links=links)"
   ]
  },
  {
   "cell_type": "code",
   "execution_count": 11,
   "metadata": {
    "ExecuteTime": {
     "end_time": "2020-05-18T10:33:26.166129Z",
     "start_time": "2020-05-18T10:32:57.943562Z"
    }
   },
   "outputs": [
    {
     "data": {
      "application/vnd.jupyter.widget-view+json": {
       "model_id": "227fe4cd800842d084fc89e594f9acd8",
       "version_major": 2,
       "version_minor": 0
      },
      "text/plain": [
       "HBox(children=(IntProgress(value=0, max=10), HTML(value='')))"
      ]
     },
     "metadata": {},
     "output_type": "display_data"
    },
    {
     "name": "stdout",
     "output_type": "stream",
     "text": [
      "\n"
     ]
    }
   ],
   "source": [
    "wbx.generate_dataset()"
   ]
  },
  {
   "cell_type": "code",
   "execution_count": 23,
   "metadata": {
    "ExecuteTime": {
     "end_time": "2020-05-18T10:35:04.613816Z",
     "start_time": "2020-05-18T10:35:04.610640Z"
    }
   },
   "outputs": [],
   "source": []
  },
  {
   "cell_type": "code",
   "execution_count": 13,
   "metadata": {
    "ExecuteTime": {
     "end_time": "2020-05-18T10:33:28.737800Z",
     "start_time": "2020-05-18T10:33:28.734835Z"
    }
   },
   "outputs": [],
   "source": [
    "images = [img.split('/')[-1] for img in glob('../dataset/screenshots/*.png')]\n",
    "title = random.choice(images).split('.')[0]\n",
    "\n",
    "orig_img = cv2.cvtColor(cv2.imread('../dataset/screenshots/'+title+'.png'), cv2.COLOR_BGR2RGB)\n",
    "bboxes = json.load(open('../dataset/annotations/'+title+'.json', 'r')).values()\n",
    "\n",
    "fig, ax = plt.subplots(1, figsize=(60,30))\n",
    "ax.imshow(orig_img)\n",
    "\n",
    "for pol in bboxes:\n",
    "    pol = np.asarray(pol)\n",
    "    rec = Rectangle(pol[[0,1]], *(pol[[2,3]] - pol[[0,1]]), \n",
    "                    linewidth=1, \n",
    "                    edgecolor='r', \n",
    "                    facecolor='none')\n",
    "    ax.add_patch(rec,)\n",
    "    \n",
    "plt.axis('off')\n",
    "plt.show()"
   ]
  },
  {
   "cell_type": "code",
   "execution_count": null,
   "metadata": {},
   "outputs": [],
   "source": []
  }
 ],
 "metadata": {
  "kernelspec": {
   "display_name": "Python 3",
   "language": "python",
   "name": "python3"
  },
  "language_info": {
   "codemirror_mode": {
    "name": "ipython",
    "version": 3
   },
   "file_extension": ".py",
   "mimetype": "text/x-python",
   "name": "python",
   "nbconvert_exporter": "python",
   "pygments_lexer": "ipython3",
   "version": "3.7.3"
  },
  "toc": {
   "base_numbering": 1,
   "nav_menu": {},
   "number_sections": true,
   "sideBar": true,
   "skip_h1_title": false,
   "title_cell": "Table of Contents",
   "title_sidebar": "Contents",
   "toc_cell": false,
   "toc_position": {},
   "toc_section_display": true,
   "toc_window_display": false
  }
 },
 "nbformat": 4,
 "nbformat_minor": 4
}
